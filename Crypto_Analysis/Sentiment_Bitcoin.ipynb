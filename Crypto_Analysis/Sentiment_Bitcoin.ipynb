{
 "cells": [
  {
   "cell_type": "code",
   "execution_count": 1,
   "id": "82dc37e0-ec11-4616-90d9-132ba8932d6d",
   "metadata": {},
   "outputs": [
    {
     "name": "stderr",
     "output_type": "stream",
     "text": [
      "/Library/Frameworks/Python.framework/Versions/3.11/lib/python3.11/site-packages/tqdm/auto.py:21: TqdmWarning: IProgress not found. Please update jupyter and ipywidgets. See https://ipywidgets.readthedocs.io/en/stable/user_install.html\n",
      "  from .autonotebook import tqdm as notebook_tqdm\n"
     ]
    }
   ],
   "source": [
    "import mwclient\n",
    "import time\n",
    "from transformers import pipeline\n",
    "\n",
    "site = mwclient.Site('en.wikipedia.org')\n",
    "page = site.pages['Bitcoin']"
   ]
  },
  {
   "cell_type": "code",
   "execution_count": 2,
   "id": "e2444104-73ac-45fe-85ff-fff2c3b10c38",
   "metadata": {},
   "outputs": [],
   "source": [
    "revs = list(page.revisions())"
   ]
  },
  {
   "cell_type": "code",
   "execution_count": 3,
   "id": "e1072d34-8a28-4c15-8011-56cc189685ff",
   "metadata": {},
   "outputs": [
    {
     "data": {
      "text/plain": [
       "OrderedDict([('revid', 1258737417),\n",
       "             ('parentid', 1258514601),\n",
       "             ('user', 'Citation bot'),\n",
       "             ('timestamp',\n",
       "              time.struct_time(tm_year=2024, tm_mon=11, tm_mday=21, tm_hour=9, tm_min=42, tm_sec=11, tm_wday=3, tm_yday=326, tm_isdst=-1)),\n",
       "             ('comment',\n",
       "              'Added date. | [[:en:WP:UCB|Use this bot]]. [[:en:WP:DBUG|Report bugs]]. | Suggested by Dominic3203 | #UCB_webform 12/495')])"
      ]
     },
     "execution_count": 3,
     "metadata": {},
     "output_type": "execute_result"
    }
   ],
   "source": [
    "revs[0]"
   ]
  },
  {
   "cell_type": "code",
   "execution_count": 4,
   "id": "bbbd5144-9807-474d-a943-9c3b2c6bed15",
   "metadata": {},
   "outputs": [],
   "source": [
    "revs = sorted(revs, key=lambda rev: rev[\"timestamp\"]) "
   ]
  },
  {
   "cell_type": "code",
   "execution_count": 5,
   "id": "f5fb5065-8de9-4864-9fc4-c9fde1e24fb6",
   "metadata": {},
   "outputs": [
    {
     "data": {
      "text/plain": [
       "OrderedDict([('revid', 275832581),\n",
       "             ('parentid', 0),\n",
       "             ('user', 'Pratyeka'),\n",
       "             ('timestamp',\n",
       "              time.struct_time(tm_year=2009, tm_mon=3, tm_mday=8, tm_hour=16, tm_min=41, tm_sec=7, tm_wday=6, tm_yday=67, tm_isdst=-1)),\n",
       "             ('comment', 'creation (stub)')])"
      ]
     },
     "execution_count": 5,
     "metadata": {},
     "output_type": "execute_result"
    }
   ],
   "source": [
    "revs[0]"
   ]
  },
  {
   "cell_type": "code",
   "execution_count": 8,
   "id": "f9217454-da89-4b3c-b584-efb382995089",
   "metadata": {},
   "outputs": [
    {
     "name": "stderr",
     "output_type": "stream",
     "text": [
      "Hardware accelerator e.g. GPU is available in the environment, but no `device` argument is passed to the `Pipeline` object. Model will be on CPU.\n"
     ]
    }
   ],
   "source": [
    "sentiment_pipeline = pipeline(\"sentiment-analysis\",model=\"distilbert-base-uncased-finetuned-sst-2-english\",revision=\"714eb0f\")\n",
    "\n",
    "def find_sentiment(text):\n",
    "    sent = sentiment_pipeline([text[:250]])[0]\n",
    "    score = sent[\"score\"]\n",
    "    if sent[\"label\"] == \"NEGATIVE\":\n",
    "        score *= -1\n",
    "    return score"
   ]
  },
  {
   "cell_type": "code",
   "execution_count": 9,
   "id": "9bf3146d-25a5-4bf4-a20d-717f89c78251",
   "metadata": {},
   "outputs": [],
   "source": [
    "edits = {}\n",
    "\n",
    "for rev in revs:        \n",
    "    date = time.strftime(\"%Y-%m-%d\", rev[\"timestamp\"])\n",
    "    if date not in edits:\n",
    "        edits[date] = dict(sentiments=list(), edit_count=0)\n",
    "    \n",
    "    edits[date][\"edit_count\"] += 1\n",
    "    \n",
    "    comment = rev.get(\"comment\", \"\")\n",
    "    edits[date][\"sentiments\"].append(find_sentiment(comment))"
   ]
  },
  {
   "cell_type": "code",
   "execution_count": 10,
   "id": "3ea15f23-a3a1-4ed2-85b2-87844d9b1d02",
   "metadata": {},
   "outputs": [],
   "source": [
    "from statistics import mean\n",
    "\n",
    "for key in edits:\n",
    "    if len(edits[key][\"sentiments\"]) > 0:\n",
    "        edits[key][\"sentiment\"] = mean(edits[key][\"sentiments\"])\n",
    "        edits[key][\"neg_sentiment\"] = len([s for s in edits[key][\"sentiments\"] if s < 0]) / len(edits[key][\"sentiments\"])\n",
    "    else:\n",
    "        edits[key][\"sentiment\"] = 0\n",
    "        edits[key][\"neg_sentiment\"] = 0\n",
    "    \n",
    "    del edits[key][\"sentiments\"]"
   ]
  },
  {
   "cell_type": "code",
   "execution_count": 11,
   "id": "86056936-1e5d-493f-b747-8c96d3fe9c09",
   "metadata": {},
   "outputs": [],
   "source": [
    "import pandas as pd\n",
    "\n",
    "edits_df = pd.DataFrame.from_dict(edits, orient=\"index\")"
   ]
  },
  {
   "cell_type": "code",
   "execution_count": 12,
   "id": "f58a9075-4802-40e8-802b-3a6d816dc068",
   "metadata": {},
   "outputs": [
    {
     "data": {
      "text/html": [
       "<div>\n",
       "<style scoped>\n",
       "    .dataframe tbody tr th:only-of-type {\n",
       "        vertical-align: middle;\n",
       "    }\n",
       "\n",
       "    .dataframe tbody tr th {\n",
       "        vertical-align: top;\n",
       "    }\n",
       "\n",
       "    .dataframe thead th {\n",
       "        text-align: right;\n",
       "    }\n",
       "</style>\n",
       "<table border=\"1\" class=\"dataframe\">\n",
       "  <thead>\n",
       "    <tr style=\"text-align: right;\">\n",
       "      <th></th>\n",
       "      <th>edit_count</th>\n",
       "      <th>sentiment</th>\n",
       "      <th>neg_sentiment</th>\n",
       "    </tr>\n",
       "  </thead>\n",
       "  <tbody>\n",
       "    <tr>\n",
       "      <th>2009-03-08</th>\n",
       "      <td>4</td>\n",
       "      <td>-0.550525</td>\n",
       "      <td>0.750000</td>\n",
       "    </tr>\n",
       "    <tr>\n",
       "      <th>2009-08-05</th>\n",
       "      <td>1</td>\n",
       "      <td>0.748121</td>\n",
       "      <td>0.000000</td>\n",
       "    </tr>\n",
       "    <tr>\n",
       "      <th>2009-08-06</th>\n",
       "      <td>2</td>\n",
       "      <td>0.995746</td>\n",
       "      <td>0.000000</td>\n",
       "    </tr>\n",
       "    <tr>\n",
       "      <th>2009-08-14</th>\n",
       "      <td>1</td>\n",
       "      <td>0.930021</td>\n",
       "      <td>0.000000</td>\n",
       "    </tr>\n",
       "    <tr>\n",
       "      <th>2009-10-13</th>\n",
       "      <td>2</td>\n",
       "      <td>-0.227500</td>\n",
       "      <td>0.500000</td>\n",
       "    </tr>\n",
       "    <tr>\n",
       "      <th>...</th>\n",
       "      <td>...</td>\n",
       "      <td>...</td>\n",
       "      <td>...</td>\n",
       "    </tr>\n",
       "    <tr>\n",
       "      <th>2024-11-09</th>\n",
       "      <td>1</td>\n",
       "      <td>0.995352</td>\n",
       "      <td>0.000000</td>\n",
       "    </tr>\n",
       "    <tr>\n",
       "      <th>2024-11-10</th>\n",
       "      <td>4</td>\n",
       "      <td>-0.559602</td>\n",
       "      <td>0.750000</td>\n",
       "    </tr>\n",
       "    <tr>\n",
       "      <th>2024-11-15</th>\n",
       "      <td>3</td>\n",
       "      <td>-0.378159</td>\n",
       "      <td>0.666667</td>\n",
       "    </tr>\n",
       "    <tr>\n",
       "      <th>2024-11-20</th>\n",
       "      <td>1</td>\n",
       "      <td>0.748121</td>\n",
       "      <td>0.000000</td>\n",
       "    </tr>\n",
       "    <tr>\n",
       "      <th>2024-11-21</th>\n",
       "      <td>1</td>\n",
       "      <td>-0.998921</td>\n",
       "      <td>1.000000</td>\n",
       "    </tr>\n",
       "  </tbody>\n",
       "</table>\n",
       "<p>2732 rows × 3 columns</p>\n",
       "</div>"
      ],
      "text/plain": [
       "            edit_count  sentiment  neg_sentiment\n",
       "2009-03-08           4  -0.550525       0.750000\n",
       "2009-08-05           1   0.748121       0.000000\n",
       "2009-08-06           2   0.995746       0.000000\n",
       "2009-08-14           1   0.930021       0.000000\n",
       "2009-10-13           2  -0.227500       0.500000\n",
       "...                ...        ...            ...\n",
       "2024-11-09           1   0.995352       0.000000\n",
       "2024-11-10           4  -0.559602       0.750000\n",
       "2024-11-15           3  -0.378159       0.666667\n",
       "2024-11-20           1   0.748121       0.000000\n",
       "2024-11-21           1  -0.998921       1.000000\n",
       "\n",
       "[2732 rows x 3 columns]"
      ]
     },
     "execution_count": 12,
     "metadata": {},
     "output_type": "execute_result"
    }
   ],
   "source": [
    "edits_df"
   ]
  },
  {
   "cell_type": "code",
   "execution_count": 13,
   "id": "108e42ed-0ecd-4108-9fa9-08399970a9cb",
   "metadata": {},
   "outputs": [],
   "source": [
    "edits_df.index = pd.to_datetime(edits_df.index)"
   ]
  },
  {
   "cell_type": "code",
   "execution_count": 14,
   "id": "7152e4ca-960b-4eca-a235-6f7865534b1f",
   "metadata": {},
   "outputs": [],
   "source": [
    "from datetime import datetime\n",
    "\n",
    "dates = pd.date_range(start=\"2009-03-08\",end=datetime.today())"
   ]
  },
  {
   "cell_type": "code",
   "execution_count": 15,
   "id": "e33c7ab4-9f85-4afd-8f6b-108bab4e51a0",
   "metadata": {},
   "outputs": [],
   "source": [
    "edits_df = edits_df.reindex(dates, fill_value=0)"
   ]
  },
  {
   "cell_type": "code",
   "execution_count": 16,
   "id": "58b56d2b-10e6-4f8c-b846-7d52fbff40f3",
   "metadata": {},
   "outputs": [
    {
     "data": {
      "text/html": [
       "<div>\n",
       "<style scoped>\n",
       "    .dataframe tbody tr th:only-of-type {\n",
       "        vertical-align: middle;\n",
       "    }\n",
       "\n",
       "    .dataframe tbody tr th {\n",
       "        vertical-align: top;\n",
       "    }\n",
       "\n",
       "    .dataframe thead th {\n",
       "        text-align: right;\n",
       "    }\n",
       "</style>\n",
       "<table border=\"1\" class=\"dataframe\">\n",
       "  <thead>\n",
       "    <tr style=\"text-align: right;\">\n",
       "      <th></th>\n",
       "      <th>edit_count</th>\n",
       "      <th>sentiment</th>\n",
       "      <th>neg_sentiment</th>\n",
       "    </tr>\n",
       "  </thead>\n",
       "  <tbody>\n",
       "    <tr>\n",
       "      <th>2009-03-08</th>\n",
       "      <td>4</td>\n",
       "      <td>-0.550525</td>\n",
       "      <td>0.75</td>\n",
       "    </tr>\n",
       "    <tr>\n",
       "      <th>2009-03-09</th>\n",
       "      <td>0</td>\n",
       "      <td>0.000000</td>\n",
       "      <td>0.00</td>\n",
       "    </tr>\n",
       "    <tr>\n",
       "      <th>2009-03-10</th>\n",
       "      <td>0</td>\n",
       "      <td>0.000000</td>\n",
       "      <td>0.00</td>\n",
       "    </tr>\n",
       "    <tr>\n",
       "      <th>2009-03-11</th>\n",
       "      <td>0</td>\n",
       "      <td>0.000000</td>\n",
       "      <td>0.00</td>\n",
       "    </tr>\n",
       "    <tr>\n",
       "      <th>2009-03-12</th>\n",
       "      <td>0</td>\n",
       "      <td>0.000000</td>\n",
       "      <td>0.00</td>\n",
       "    </tr>\n",
       "    <tr>\n",
       "      <th>...</th>\n",
       "      <td>...</td>\n",
       "      <td>...</td>\n",
       "      <td>...</td>\n",
       "    </tr>\n",
       "    <tr>\n",
       "      <th>2024-11-17</th>\n",
       "      <td>0</td>\n",
       "      <td>0.000000</td>\n",
       "      <td>0.00</td>\n",
       "    </tr>\n",
       "    <tr>\n",
       "      <th>2024-11-18</th>\n",
       "      <td>0</td>\n",
       "      <td>0.000000</td>\n",
       "      <td>0.00</td>\n",
       "    </tr>\n",
       "    <tr>\n",
       "      <th>2024-11-19</th>\n",
       "      <td>0</td>\n",
       "      <td>0.000000</td>\n",
       "      <td>0.00</td>\n",
       "    </tr>\n",
       "    <tr>\n",
       "      <th>2024-11-20</th>\n",
       "      <td>1</td>\n",
       "      <td>0.748121</td>\n",
       "      <td>0.00</td>\n",
       "    </tr>\n",
       "    <tr>\n",
       "      <th>2024-11-21</th>\n",
       "      <td>1</td>\n",
       "      <td>-0.998921</td>\n",
       "      <td>1.00</td>\n",
       "    </tr>\n",
       "  </tbody>\n",
       "</table>\n",
       "<p>5738 rows × 3 columns</p>\n",
       "</div>"
      ],
      "text/plain": [
       "            edit_count  sentiment  neg_sentiment\n",
       "2009-03-08           4  -0.550525           0.75\n",
       "2009-03-09           0   0.000000           0.00\n",
       "2009-03-10           0   0.000000           0.00\n",
       "2009-03-11           0   0.000000           0.00\n",
       "2009-03-12           0   0.000000           0.00\n",
       "...                ...        ...            ...\n",
       "2024-11-17           0   0.000000           0.00\n",
       "2024-11-18           0   0.000000           0.00\n",
       "2024-11-19           0   0.000000           0.00\n",
       "2024-11-20           1   0.748121           0.00\n",
       "2024-11-21           1  -0.998921           1.00\n",
       "\n",
       "[5738 rows x 3 columns]"
      ]
     },
     "execution_count": 16,
     "metadata": {},
     "output_type": "execute_result"
    }
   ],
   "source": [
    "edits_df"
   ]
  },
  {
   "cell_type": "code",
   "execution_count": 17,
   "id": "74ebbf3a-0dd3-4e8a-acaf-3e82428bdbba",
   "metadata": {},
   "outputs": [],
   "source": [
    "rolling_edits = edits_df.rolling(30, min_periods=30).mean()"
   ]
  },
  {
   "cell_type": "code",
   "execution_count": 18,
   "id": "d3118067-b5f7-4965-bcef-0632a164065e",
   "metadata": {},
   "outputs": [],
   "source": [
    "rolling_edits = rolling_edits.dropna()"
   ]
  },
  {
   "cell_type": "code",
   "execution_count": 19,
   "id": "da299928-ff9e-47df-82bd-e7f7ccda84a2",
   "metadata": {},
   "outputs": [
    {
     "data": {
      "text/html": [
       "<div>\n",
       "<style scoped>\n",
       "    .dataframe tbody tr th:only-of-type {\n",
       "        vertical-align: middle;\n",
       "    }\n",
       "\n",
       "    .dataframe tbody tr th {\n",
       "        vertical-align: top;\n",
       "    }\n",
       "\n",
       "    .dataframe thead th {\n",
       "        text-align: right;\n",
       "    }\n",
       "</style>\n",
       "<table border=\"1\" class=\"dataframe\">\n",
       "  <thead>\n",
       "    <tr style=\"text-align: right;\">\n",
       "      <th></th>\n",
       "      <th>edit_count</th>\n",
       "      <th>sentiment</th>\n",
       "      <th>neg_sentiment</th>\n",
       "    </tr>\n",
       "  </thead>\n",
       "  <tbody>\n",
       "    <tr>\n",
       "      <th>2009-04-06</th>\n",
       "      <td>0.133333</td>\n",
       "      <td>-0.018351</td>\n",
       "      <td>0.025000</td>\n",
       "    </tr>\n",
       "    <tr>\n",
       "      <th>2009-04-07</th>\n",
       "      <td>0.000000</td>\n",
       "      <td>0.000000</td>\n",
       "      <td>0.000000</td>\n",
       "    </tr>\n",
       "    <tr>\n",
       "      <th>2009-04-08</th>\n",
       "      <td>0.000000</td>\n",
       "      <td>0.000000</td>\n",
       "      <td>0.000000</td>\n",
       "    </tr>\n",
       "    <tr>\n",
       "      <th>2009-04-09</th>\n",
       "      <td>0.000000</td>\n",
       "      <td>0.000000</td>\n",
       "      <td>0.000000</td>\n",
       "    </tr>\n",
       "    <tr>\n",
       "      <th>2009-04-10</th>\n",
       "      <td>0.000000</td>\n",
       "      <td>0.000000</td>\n",
       "      <td>0.000000</td>\n",
       "    </tr>\n",
       "    <tr>\n",
       "      <th>...</th>\n",
       "      <td>...</td>\n",
       "      <td>...</td>\n",
       "      <td>...</td>\n",
       "    </tr>\n",
       "    <tr>\n",
       "      <th>2024-11-17</th>\n",
       "      <td>0.500000</td>\n",
       "      <td>0.030374</td>\n",
       "      <td>0.080556</td>\n",
       "    </tr>\n",
       "    <tr>\n",
       "      <th>2024-11-18</th>\n",
       "      <td>0.500000</td>\n",
       "      <td>0.030374</td>\n",
       "      <td>0.080556</td>\n",
       "    </tr>\n",
       "    <tr>\n",
       "      <th>2024-11-19</th>\n",
       "      <td>0.500000</td>\n",
       "      <td>0.030374</td>\n",
       "      <td>0.080556</td>\n",
       "    </tr>\n",
       "    <tr>\n",
       "      <th>2024-11-20</th>\n",
       "      <td>0.500000</td>\n",
       "      <td>0.026002</td>\n",
       "      <td>0.080556</td>\n",
       "    </tr>\n",
       "    <tr>\n",
       "      <th>2024-11-21</th>\n",
       "      <td>0.533333</td>\n",
       "      <td>-0.007295</td>\n",
       "      <td>0.113889</td>\n",
       "    </tr>\n",
       "  </tbody>\n",
       "</table>\n",
       "<p>5709 rows × 3 columns</p>\n",
       "</div>"
      ],
      "text/plain": [
       "            edit_count  sentiment  neg_sentiment\n",
       "2009-04-06    0.133333  -0.018351       0.025000\n",
       "2009-04-07    0.000000   0.000000       0.000000\n",
       "2009-04-08    0.000000   0.000000       0.000000\n",
       "2009-04-09    0.000000   0.000000       0.000000\n",
       "2009-04-10    0.000000   0.000000       0.000000\n",
       "...                ...        ...            ...\n",
       "2024-11-17    0.500000   0.030374       0.080556\n",
       "2024-11-18    0.500000   0.030374       0.080556\n",
       "2024-11-19    0.500000   0.030374       0.080556\n",
       "2024-11-20    0.500000   0.026002       0.080556\n",
       "2024-11-21    0.533333  -0.007295       0.113889\n",
       "\n",
       "[5709 rows x 3 columns]"
      ]
     },
     "execution_count": 19,
     "metadata": {},
     "output_type": "execute_result"
    }
   ],
   "source": [
    "rolling_edits"
   ]
  },
  {
   "cell_type": "code",
   "execution_count": 20,
   "id": "d713804f-4ebd-4dab-a575-8ffedc40529f",
   "metadata": {},
   "outputs": [],
   "source": [
    "rolling_edits.to_csv(\"wikipedia_edits.csv\")"
   ]
  },
  {
   "cell_type": "code",
   "execution_count": null,
   "id": "11313a79-d7f7-4765-b842-175441f5cbbc",
   "metadata": {},
   "outputs": [],
   "source": []
  }
 ],
 "metadata": {
  "kernelspec": {
   "display_name": "Python 3",
   "language": "python",
   "name": "python3"
  },
  "language_info": {
   "codemirror_mode": {
    "name": "ipython",
    "version": 3
   },
   "file_extension": ".py",
   "mimetype": "text/x-python",
   "name": "python",
   "nbconvert_exporter": "python",
   "pygments_lexer": "ipython3",
   "version": "3.11.1"
  }
 },
 "nbformat": 4,
 "nbformat_minor": 5
}
